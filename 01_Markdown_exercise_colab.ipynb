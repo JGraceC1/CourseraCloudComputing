{
  "cells": [
    {
      "cell_type": "markdown",
      "metadata": {
        "id": "view-in-github",
        "colab_type": "text"
      },
      "source": [
        "<a href=\"https://colab.research.google.com/github/JGraceC1/CourseraCloudComputing/blob/main/01_Markdown_exercise_colab.ipynb\" target=\"_parent\"><img src=\"https://colab.research.google.com/assets/colab-badge.svg\" alt=\"Open In Colab\"/></a>"
      ]
    },
    {
      "cell_type": "code",
      "execution_count": null,
      "metadata": {
        "id": "BAZaCn9Yu_8w",
        "outputId": "84a42311-7773-45eb-d135-746028d2b0ce"
      },
      "outputs": [
        {
          "name": "stdout",
          "output_type": "stream",
          "text": [
            "hello world\n"
          ]
        }
      ],
      "source": [
        "print(\"hello world\")"
      ]
    },
    {
      "cell_type": "markdown",
      "metadata": {
        "id": "nVFB9sU1u_8y"
      },
      "source": [
        "# This is a statement with plain text"
      ]
    },
    {
      "cell_type": "markdown",
      "metadata": {
        "id": "_6JwE61Gu_8z"
      },
      "source": [
        "## Heading Two"
      ]
    },
    {
      "cell_type": "markdown",
      "metadata": {
        "id": "n7u4ZcR6u_80"
      },
      "source": [
        "### Heading Three"
      ]
    },
    {
      "cell_type": "markdown",
      "metadata": {
        "id": "ERDEOCdTu_80"
      },
      "source": [
        "This is a [link](www.outlook.com.au)"
      ]
    },
    {
      "cell_type": "code",
      "execution_count": null,
      "metadata": {
        "id": "bGlFlsHcu_80"
      },
      "outputs": [],
      "source": []
    }
  ],
  "metadata": {
    "kernelspec": {
      "display_name": "Python 3",
      "language": "python",
      "name": "python3"
    },
    "language_info": {
      "codemirror_mode": {
        "name": "ipython",
        "version": 3
      },
      "file_extension": ".py",
      "mimetype": "text/x-python",
      "name": "python",
      "nbconvert_exporter": "python",
      "pygments_lexer": "ipython3",
      "version": "3.7.4"
    },
    "colab": {
      "provenance": [],
      "include_colab_link": true
    }
  },
  "nbformat": 4,
  "nbformat_minor": 0
}